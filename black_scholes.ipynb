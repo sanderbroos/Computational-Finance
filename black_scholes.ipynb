{
 "cells": [
  {
   "cell_type": "code",
   "execution_count": 60,
   "metadata": {},
   "outputs": [],
   "source": [
    "\n",
    "from math import log, sqrt, pi, exp\n",
    "import scipy.stats as stats\n",
    "from datetime import datetime, date\n",
    "import numpy as np\n",
    "import pandas as pd"
   ]
  },
  {
   "cell_type": "code",
   "execution_count": 3,
   "metadata": {},
   "outputs": [],
   "source": [
    "#black scholes formula:\n",
    "C = N1 *S - N2 *K*e**()"
   ]
  },
  {
   "cell_type": "code",
   "execution_count": 5,
   "metadata": {},
   "outputs": [],
   "source": [
    "#N(d1) calculation\n",
    "def d1(S,K,T,r,sigma):\n",
    "    return(log(S/K)+(r+sigma**2/2.)*T)/(sigma*sqrt(T))\n",
    "\n",
    "#N(d2) calculation\n",
    "def d2(S,K,T,r,sigma):\n",
    "    return d1(S,K,T,r,sigma)-sigma*sqrt(T)"
   ]
  },
  {
   "cell_type": "code",
   "execution_count": 6,
   "metadata": {},
   "outputs": [],
   "source": [
    "#BS call option\n",
    "def bs_call(S,K,T,r,sigma):\n",
    "    return S*norm.cdf(d1(S,K,T,r,sigma))-K*exp(-r*T)*norm.cdf(d2(S,K,T,r,sigma))\n",
    "\n",
    "#Bs Put option\n",
    "def bs_put(S,K,T,r,sigma):\n",
    "    return K*exp(-r*T)-S+bs_call(S,K,T,r,sigma)"
   ]
  },
  {
   "cell_type": "markdown",
   "metadata": {},
   "source": [
    "Consider again a short position in a European call option on a non-dividend-paying stock with\n",
    "a maturity of one year and strike price K of e99. Let the one year interest rate be 6% and the\n",
    "current price of the stock be e100. Furthermore, assume that the volatility is 20%\n",
    "\n",
    " Use the Euler method to perform a hedging simulation. Do an experiment where the\n",
    "volatility in the stock price process is matching the volatility used in the delta computation\n",
    "(set both equal to 20%). Vary the frequency of the hedge adjustment (from daily to weekly)\n",
    "and explain the results. Perform numerical experiments where the volatility in the stock\n",
    "price process is not matching the volatility used in the delta valuation. Experiment for\n",
    "various levels and explain the results.\n",
    "\n",
    "\n"
   ]
  },
  {
   "cell_type": "code",
   "execution_count": 28,
   "metadata": {},
   "outputs": [],
   "source": [
    "S = 100"
   ]
  },
  {
   "cell_type": "code",
   "execution_count": 61,
   "metadata": {},
   "outputs": [],
   "source": [
    "x0 = 0\n",
    "y0 = 1\n",
    "xf = 100\n",
    "n = 1000\n",
    "deltax = (xf-x0)/(n-1)"
   ]
  },
  {
   "cell_type": "code",
   "execution_count": 62,
   "metadata": {},
   "outputs": [],
   "source": [
    "x = np.linspace(x0,xf,n)\n",
    "y = np.zeros([n])"
   ]
  },
  {
   "cell_type": "code",
   "execution_count": 63,
   "metadata": {},
   "outputs": [],
   "source": [
    "y[0] = y0\n",
    "for i in range(1,n):\n",
    "    y[i]= deltax*(-y[i-1]+np.sin(x[i-1]))+y[i-1]"
   ]
  },
  {
   "cell_type": "code",
   "execution_count": 64,
   "metadata": {},
   "outputs": [
    {
     "data": {
      "image/png": "[encoded data removed]",
      "text/plain": [
       "<Figure size 432x288 with 1 Axes>"
      ]
     },
     "metadata": {
      "needs_background": "light"
     },
     "output_type": "display_data"
    }
   ],
   "source": [
    "plt.plot(x,y,'o')\n",
    "plt.xlabel(\"Value X\")\n",
    "plt.ylabel(\"Value Y\")\n",
    "plt.show()"
   ]
  },
  {
   "cell_type": "code",
   "execution_count": 70,
   "metadata": {},
   "outputs": [],
   "source": [
    "def BSM(T, r, K, S, sigma):\n",
    "    d1 = (((np.log(S/K)) + (r + 0.5*sigma**2)* T) / (sigma*np.sqrt(T)))\n",
    "    d2 = d1 - (sigma*np.sqrt(T))\n",
    "    Nd1 = stats.norm.cdf(d1)\n",
    "    Nd2 = stats.norm.cdf(d2)\n",
    "\n",
    "    V = (S*Nd1) - (np.exp(-r*T)*K*Nd2)\n",
    "\n",
    "    return V\n",
    "\n"
   ]
  },
  {
   "cell_type": "code",
   "execution_count": 71,
   "metadata": {},
   "outputs": [],
   "source": [
    "sigma = 0.2\n",
    "S = 100\n",
    "T = 1\n",
    "N = 100\n",
    "K = 99\n",
    "r = 0.06"
   ]
  },
  {
   "cell_type": "code",
   "execution_count": 72,
   "metadata": {},
   "outputs": [
    {
     "name": "stdout",
     "output_type": "stream",
     "text": [
      "11.544280227051097\n"
     ]
    }
   ],
   "source": [
    "c_BSM = BSM(T, r, K, S, sigma)\n",
    "print(c_BSM)"
   ]
  },
  {
   "cell_type": "markdown",
   "metadata": {},
   "source": []
  }
 ],
 "metadata": {
  "interpreter": {
   "hash": "3871a523a9e8bfc68b7e100bf10607a8f7d8cb28d0f2246e2f3347e852a50e2d"
  },
  "kernelspec": {
   "display_name": "Python 3.8.12 ('base')",
   "language": "python",
   "name": "python3"
  },
  "language_info": {
   "codemirror_mode": {
    "name": "ipython",
    "version": 3
   },
   "file_extension": ".py",
   "mimetype": "text/x-python",
   "name": "python",
   "nbconvert_exporter": "python",
   "pygments_lexer": "ipython3",
   "version": "3.8.12"
  },
  "orig_nbformat": 4
 },
 "nbformat": 4,
 "nbformat_minor": 2
}
