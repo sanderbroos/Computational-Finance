{
 "cells": [
  {
   "cell_type": "code",
   "execution_count": 12,
   "metadata": {},
   "outputs": [],
   "source": [
    "\n",
    "from math import log, sqrt, pi, exp\n",
    "from scipy.stats import norm\n",
    "from datetime import datetime, date\n",
    "import numpy as np\n",
    "import pandas as pd\n",
    "from pandas import DataFrame\n"
   ]
  },
  {
   "cell_type": "code",
   "execution_count": 3,
   "metadata": {},
   "outputs": [],
   "source": [
    "#black scholes formula:\n",
    "C = N1 *S - N2 *K*e**()"
   ]
  },
  {
   "cell_type": "code",
   "execution_count": 5,
   "metadata": {},
   "outputs": [],
   "source": [
    "#N(d1) calculation\n",
    "def d1(S,K,T,r,sigma):\n",
    "    return(log(S/K)+(r+sigma**2/2.)*T)/(sigma*sqrt(T))\n",
    "\n",
    "#N(d2) calculation\n",
    "def d2(S,K,T,r,sigma):\n",
    "    return d1(S,K,T,r,sigma)-sigma*sqrt(T)"
   ]
  },
  {
   "cell_type": "code",
   "execution_count": 6,
   "metadata": {},
   "outputs": [],
   "source": [
    "#BS call option\n",
    "def bs_call(S,K,T,r,sigma):\n",
    "    return S*norm.cdf(d1(S,K,T,r,sigma))-K*exp(-r*T)*norm.cdf(d2(S,K,T,r,sigma))\n",
    "\n",
    "#Bs Put option\n",
    "def bs_put(S,K,T,r,sigma):\n",
    "    return K*exp(-r*T)-S+bs_call(S,K,T,r,sigma)"
   ]
  },
  {
   "cell_type": "markdown",
   "metadata": {},
   "source": [
    "Consider again a short position in a European call option on a non-dividend-paying stock with\n",
    "a maturity of one year and strike price K of e99. Let the one year interest rate be 6% and the\n",
    "current price of the stock be e100. Furthermore, assume that the volatility is 20%\n",
    "\n",
    " Use the Euler method to perform a hedging simulation. Do an experiment where the\n",
    "volatility in the stock price process is matching the volatility used in the delta computation\n",
    "(set both equal to 20%). Vary the frequency of the hedge adjustment (from daily to weekly)\n",
    "and explain the results. Perform numerical experiments where the volatility in the stock\n",
    "price process is not matching the volatility used in the delta valuation. Experiment for\n",
    "various levels and explain the results.\n",
    "\n",
    "\n"
   ]
  },
  {
   "cell_type": "code",
   "execution_count": null,
   "metadata": {},
   "outputs": [],
   "source": [
    "r = 0.06\n",
    "K = 99\n"
   ]
  },
  {
   "cell_type": "code",
   "execution_count": 15,
   "metadata": {},
   "outputs": [
    {
     "name": "stdout",
     "output_type": "stream",
     "text": [
      "The Option Price is:  57.82009694302536\n"
     ]
    }
   ],
   "source": [
    "\n",
    "from datetime import datetime, date\n",
    "import numpy as np\n",
    "import pandas as pd\n",
    "import pandas_datareader.data as web\n",
    "\n",
    "stock = 'SPY'\n",
    "expiry = '02-27-2022'\n",
    "strike_price = 370\n",
    "\n",
    "today = datetime.now()\n",
    "one_year_ago = today.replace(year=today.year-1)\n",
    "\n",
    "df = web.DataReader(stock, 'yahoo', one_year_ago, today)\n",
    "\n",
    "df = df.sort_values(by=\"Date\")\n",
    "df = df.dropna()\n",
    "df = df.assign(close_day_before=df.Close.shift(1))\n",
    "df['returns'] = ((df.Close - df.close_day_before)/df.close_day_before)\n",
    "\n",
    "sigma = np.sqrt(252) * df['returns'].std()\n",
    "uty = (web.DataReader(\n",
    "    \"^TNX\", 'yahoo', today.replace(day=today.day-1), today)['Close'].iloc[-1])/100\n",
    "lcp = df['Close'].iloc[-1]\n",
    "t = (datetime.strptime(expiry, \"%m-%d-%Y\") - datetime.utcnow()).days / 365\n",
    "\n",
    "print('The Option Price is: ', bs_call(lcp, strike_price, t, uty, sigma))"
   ]
  },
  {
   "cell_type": "code",
   "execution_count": 2,
   "metadata": {},
   "outputs": [
    {
     "name": "stdout",
     "output_type": "stream",
     "text": [
      "Requirement already satisfied: matplotlib in c:\\users\\manne\\anaconda3\\lib\\site-packages (3.5.0)\n",
      "Requirement already satisfied: fonttools>=4.22.0 in c:\\users\\manne\\anaconda3\\lib\\site-packages (from matplotlib) (4.28.2)\n",
      "Requirement already satisfied: python-dateutil>=2.7 in c:\\users\\manne\\anaconda3\\lib\\site-packages (from matplotlib) (2.8.2)\n",
      "Requirement already satisfied: numpy>=1.17 in c:\\users\\manne\\anaconda3\\lib\\site-packages (from matplotlib) (1.21.4)\n",
      "Requirement already satisfied: cycler>=0.10 in c:\\users\\manne\\anaconda3\\lib\\site-packages (from matplotlib) (0.11.0)\n",
      "Requirement already satisfied: packaging>=20.0 in c:\\users\\manne\\anaconda3\\lib\\site-packages (from matplotlib) (21.3)\n",
      "Requirement already satisfied: pillow>=6.2.0 in c:\\users\\manne\\anaconda3\\lib\\site-packages (from matplotlib) (8.4.0)\n",
      "Requirement already satisfied: pyparsing>=2.2.1 in c:\\users\\manne\\anaconda3\\lib\\site-packages (from matplotlib) (3.0.6)\n",
      "Requirement already satisfied: kiwisolver>=1.0.1 in c:\\users\\manne\\anaconda3\\lib\\site-packages (from matplotlib) (1.3.2)\n",
      "Requirement already satisfied: six>=1.5 in c:\\users\\manne\\anaconda3\\lib\\site-packages (from python-dateutil>=2.7->matplotlib) (1.16.0)\n"
     ]
    }
   ],
   "source": [
    "!pip install matplotlib"
   ]
  },
  {
   "cell_type": "code",
   "execution_count": 24,
   "metadata": {},
   "outputs": [],
   "source": [
    "import numpy as np\n",
    "import scipy.sparse\n",
    "import matplotlib.pyplot as plt\n",
    "from mpl_toolkits.mplot3d import Axes3D\n",
    "def bottom_boundary_condition(K,T,S_min, r, t):\n",
    "    return np.zeros(t.shape)\n",
    "def top_boundary_condition(K,T,S_max, r, t):\n",
    "    return S_max-np.exp(-r*(T-t))*K\n",
    "def bottom_boundary_condition(K,T,S_min, r, t):\n",
    "    return np.maximum(S-K,0)"
   ]
  },
  {
   "cell_type": "code",
   "execution_count": 25,
   "metadata": {},
   "outputs": [
    {
     "ename": "TypeError",
     "evalue": "bottom_boundary_condition() missing 4 required positional arguments: 'T', 'S_min', 'r', and 't'",
     "output_type": "error",
     "traceback": [
      "\u001b[1;31m---------------------------------------------------------------------------\u001b[0m",
      "\u001b[1;31mTypeError\u001b[0m                                 Traceback (most recent call last)",
      "\u001b[1;32m~\\AppData\\Local\\Temp/ipykernel_20868/4200951942.py\u001b[0m in \u001b[0;36m<module>\u001b[1;34m\u001b[0m\n\u001b[1;32m----> 1\u001b[1;33m \u001b[0mbottom_boundary_condition\u001b[0m\u001b[1;33m(\u001b[0m\u001b[1;36m99\u001b[0m\u001b[1;33m,\u001b[0m\u001b[1;33m)\u001b[0m\u001b[1;33m\u001b[0m\u001b[1;33m\u001b[0m\u001b[0m\n\u001b[0m",
      "\u001b[1;31mTypeError\u001b[0m: bottom_boundary_condition() missing 4 required positional arguments: 'T', 'S_min', 'r', and 't'"
     ]
    }
   ],
   "source": [
    "bottom_boundary_condition(99,)"
   ]
  },
  {
   "cell_type": "code",
   "execution_count": 26,
   "metadata": {},
   "outputs": [],
   "source": [
    "def compute_abc( K, T, sigma, r, S, dt, dS ):\n",
    "    a = -sigma**2 * S**2/(2* dS**2 ) + r*S/(2*dS)\n",
    "    b = r + sigma**2 * S**2/(dS**2)\n",
    "    c = -sigma**2 * S**2/(2* dS**2 ) - r*S/(2*dS)\n",
    "    return a,b,c\n",
    "def compute_lambda( a,b,c ):\n",
    "    return scipy.sparse.diags( [a[1:],b,c[:-1]],offsets=[-1,0,1])\n",
    "def compute_W(a,b,c, V0, VM): \n",
    "    M = len(b)+1\n",
    "    W = np.zeros(M-1)\n",
    "    W[0] = a[0]*V0 \n",
    "    W[-1] = c[-1]*VM \n",
    "    return W"
   ]
  },
  {
   "cell_type": "code",
   "execution_count": 27,
   "metadata": {},
   "outputs": [],
   "source": [
    "def price_call_explicit( K, T, r, sigma, N, M):\n",
    "    # Choose the shape of the grid\n",
    "    dt = T/N\n",
    "    S_min=0\n",
    "    S_max=K*np.exp(8*sigma*np.sqrt(T))\n",
    "    dS = (S_max-S_min)/M\n",
    "    S = np.linspace(S_min,S_max,M+1)\n",
    "    t = np.linspace(0,T,N+1)\n",
    "    V = np.zeros((N+1,M+1)) #...\n",
    "    \n",
    "    # Set the boundary conditions\n",
    "    V[:,-1] = top_boundary_condition(K,T,S_max,r,t)\n",
    "    V[:,0] = bottom_boundary_condition(K,T,S_max,r,t)\n",
    "    V[-1,:] = final_boundary_condition(K,T,S) #...\n",
    "    \n",
    "    # Apply the recurrence relation\n",
    "    a,b,c = compute_abc(K,T,sigma,r,S[1:-1],dt,dS)\n",
    "    Lambda =compute_lambda( a,b,c) \n",
    "    identity = scipy.sparse.identity(M-1)\n",
    "    \n",
    "    for i in range(N,0,-1):\n",
    "        W = compute_W(a,b,c,V[i,0],V[i,M])\n",
    "        # Use `dot` to multiply a vector by a sparse matrix\n",
    "        V[i-1,1:M] = (identity-Lambda*dt).dot( V[i,1:M] ) - W*dt\n",
    "        \n",
    "    return V, t, S"
   ]
  },
  {
   "cell_type": "code",
   "execution_count": 28,
   "metadata": {},
   "outputs": [],
   "source": [
    "S = 100"
   ]
  },
  {
   "cell_type": "code",
   "execution_count": 29,
   "metadata": {},
   "outputs": [
    {
     "ename": "NameError",
     "evalue": "name 'final_boundary_condition' is not defined",
     "output_type": "error",
     "traceback": [
      "\u001b[1;31m---------------------------------------------------------------------------\u001b[0m",
      "\u001b[1;31mNameError\u001b[0m                                 Traceback (most recent call last)",
      "\u001b[1;32m~\\AppData\\Local\\Temp/ipykernel_20868/2696839033.py\u001b[0m in \u001b[0;36m<module>\u001b[1;34m\u001b[0m\n\u001b[1;32m----> 1\u001b[1;33m \u001b[0mprice_call_explicit\u001b[0m\u001b[1;33m(\u001b[0m\u001b[1;36m99\u001b[0m\u001b[1;33m,\u001b[0m\u001b[1;36m1\u001b[0m\u001b[1;33m,\u001b[0m\u001b[1;36m6\u001b[0m\u001b[1;33m,\u001b[0m\u001b[1;36m20\u001b[0m\u001b[1;33m,\u001b[0m\u001b[1;36m100\u001b[0m\u001b[1;33m,\u001b[0m\u001b[1;36m100\u001b[0m\u001b[1;33m)\u001b[0m\u001b[1;33m\u001b[0m\u001b[1;33m\u001b[0m\u001b[0m\n\u001b[0m",
      "\u001b[1;32m~\\AppData\\Local\\Temp/ipykernel_20868/1195025217.py\u001b[0m in \u001b[0;36mprice_call_explicit\u001b[1;34m(K, T, r, sigma, N, M)\u001b[0m\n\u001b[0;32m     12\u001b[0m     \u001b[0mV\u001b[0m\u001b[1;33m[\u001b[0m\u001b[1;33m:\u001b[0m\u001b[1;33m,\u001b[0m\u001b[1;33m-\u001b[0m\u001b[1;36m1\u001b[0m\u001b[1;33m]\u001b[0m \u001b[1;33m=\u001b[0m \u001b[0mtop_boundary_condition\u001b[0m\u001b[1;33m(\u001b[0m\u001b[0mK\u001b[0m\u001b[1;33m,\u001b[0m\u001b[0mT\u001b[0m\u001b[1;33m,\u001b[0m\u001b[0mS_max\u001b[0m\u001b[1;33m,\u001b[0m\u001b[0mr\u001b[0m\u001b[1;33m,\u001b[0m\u001b[0mt\u001b[0m\u001b[1;33m)\u001b[0m\u001b[1;33m\u001b[0m\u001b[1;33m\u001b[0m\u001b[0m\n\u001b[0;32m     13\u001b[0m     \u001b[0mV\u001b[0m\u001b[1;33m[\u001b[0m\u001b[1;33m:\u001b[0m\u001b[1;33m,\u001b[0m\u001b[1;36m0\u001b[0m\u001b[1;33m]\u001b[0m \u001b[1;33m=\u001b[0m \u001b[0mbottom_boundary_condition\u001b[0m\u001b[1;33m(\u001b[0m\u001b[0mK\u001b[0m\u001b[1;33m,\u001b[0m\u001b[0mT\u001b[0m\u001b[1;33m,\u001b[0m\u001b[0mS_max\u001b[0m\u001b[1;33m,\u001b[0m\u001b[0mr\u001b[0m\u001b[1;33m,\u001b[0m\u001b[0mt\u001b[0m\u001b[1;33m)\u001b[0m\u001b[1;33m\u001b[0m\u001b[1;33m\u001b[0m\u001b[0m\n\u001b[1;32m---> 14\u001b[1;33m     \u001b[0mV\u001b[0m\u001b[1;33m[\u001b[0m\u001b[1;33m-\u001b[0m\u001b[1;36m1\u001b[0m\u001b[1;33m,\u001b[0m\u001b[1;33m:\u001b[0m\u001b[1;33m]\u001b[0m \u001b[1;33m=\u001b[0m \u001b[0mfinal_boundary_condition\u001b[0m\u001b[1;33m(\u001b[0m\u001b[0mK\u001b[0m\u001b[1;33m,\u001b[0m\u001b[0mT\u001b[0m\u001b[1;33m,\u001b[0m\u001b[0mS\u001b[0m\u001b[1;33m)\u001b[0m \u001b[1;31m#...\u001b[0m\u001b[1;33m\u001b[0m\u001b[1;33m\u001b[0m\u001b[0m\n\u001b[0m\u001b[0;32m     15\u001b[0m \u001b[1;33m\u001b[0m\u001b[0m\n\u001b[0;32m     16\u001b[0m     \u001b[1;31m# Apply the recurrence relation\u001b[0m\u001b[1;33m\u001b[0m\u001b[1;33m\u001b[0m\u001b[1;33m\u001b[0m\u001b[0m\n",
      "\u001b[1;31mNameError\u001b[0m: name 'final_boundary_condition' is not defined"
     ]
    }
   ],
   "source": [
    "price_call_explicit(99,1,6,20,100,100)"
   ]
  },
  {
   "cell_type": "code",
   "execution_count": 21,
   "metadata": {},
   "outputs": [
    {
     "ename": "SyntaxError",
     "evalue": "unexpected EOF while parsing (Temp/ipykernel_20868/2615902420.py, line 4)",
     "output_type": "error",
     "traceback": [
      "\u001b[1;36m  File \u001b[1;32m\"C:\\Users\\manne\\AppData\\Local\\Temp/ipykernel_20868/2615902420.py\"\u001b[1;36m, line \u001b[1;32m4\u001b[0m\n\u001b[1;33m    for i in range (1,100):\u001b[0m\n\u001b[1;37m                           ^\u001b[0m\n\u001b[1;31mSyntaxError\u001b[0m\u001b[1;31m:\u001b[0m unexpected EOF while parsing\n"
     ]
    }
   ],
   "source": [
    "# m in N, delta t = T/M\n",
    "#initialize S0 so that\n",
    "\n",
    "for i in range (1,100):\n",
    "    Si = "
   ]
  },
  {
   "cell_type": "code",
   "execution_count": 46,
   "metadata": {},
   "outputs": [],
   "source": [
    "x0 = 0\n",
    "y0 = 1\n",
    "xf = 100\n",
    "n = 1000\n",
    "deltax = (xf-x0)/(n-1)"
   ]
  },
  {
   "cell_type": "code",
   "execution_count": 47,
   "metadata": {},
   "outputs": [],
   "source": [
    "x = np.linspace(x0,xf,n)\n",
    "y = np.zeros([n])"
   ]
  },
  {
   "cell_type": "code",
   "execution_count": 48,
   "metadata": {},
   "outputs": [],
   "source": [
    "y[0] = y0\n",
    "for i in range(1,n):\n",
    "    y[i]= deltax*(-y[i-1]+np.sin(x[i-1]))+y[i-1]"
   ]
  },
  {
   "cell_type": "code",
   "execution_count": 49,
   "metadata": {},
   "outputs": [
    {
     "data": {
      "image/png": "[encoded data removed]",
      "text/plain": [
       "<Figure size 432x288 with 1 Axes>"
      ]
     },
     "metadata": {
      "needs_background": "light"
     },
     "output_type": "display_data"
    }
   ],
   "source": [
    "plt.plot(x,y,'o')\n",
    "plt.xlabel(\"Value X\")\n",
    "plt.ylabel(\"Value Y\")\n",
    "plt.show()"
   ]
  },
  {
   "cell_type": "code",
   "execution_count": null,
   "metadata": {},
   "outputs": [],
   "source": []
  }
 ],
 "metadata": {
  "interpreter": {
   "hash": "3871a523a9e8bfc68b7e100bf10607a8f7d8cb28d0f2246e2f3347e852a50e2d"
  },
  "kernelspec": {
   "display_name": "Python 3.8.12 ('base')",
   "language": "python",
   "name": "python3"
  },
  "language_info": {
   "codemirror_mode": {
    "name": "ipython",
    "version": 3
   },
   "file_extension": ".py",
   "mimetype": "text/x-python",
   "name": "python",
   "nbconvert_exporter": "python",
   "pygments_lexer": "ipython3",
   "version": "3.8.12"
  },
  "orig_nbformat": 4
 },
 "nbformat": 4,
 "nbformat_minor": 2
}
