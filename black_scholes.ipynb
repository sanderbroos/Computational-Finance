{
 "cells": [
  {
   "cell_type": "markdown",
   "metadata": {},
   "source": [
    "To date, the Black-Scholes model is perhaps the most popular tool for financial derivative valuation. It is a continuous-time model for the evolution of asset prices. Here we will discuss the\n",
    "main assumptions to the model, treat simulation techniques and derive the famous Black-Scholes\n",
    "formula for European options.\n",
    "Although it is more realistic than the binomial tree, the Black-Scholes model is still a simplified\n",
    "representation of the market. Let again S denote the value of a stock. The main concept here is\n",
    "that the risk-neutral dynamics of the stock price are captured by a geometric Brownian motion.\n",
    "This is a stochastic process that is described by the following SDE.\n",
    "\n",
    "\n",
    "dSt = rStdt + σStdzt\n",
    "\n",
    "\n"
   ]
  },
  {
   "cell_type": "code",
   "execution_count": 1,
   "metadata": {},
   "outputs": [],
   "source": [
    "import numpy as np\n",
    "import math"
   ]
  },
  {
   "cell_type": "code",
   "execution_count": null,
   "metadata": {},
   "outputs": [],
   "source": []
  }
 ],
 "metadata": {
  "interpreter": {
   "hash": "3871a523a9e8bfc68b7e100bf10607a8f7d8cb28d0f2246e2f3347e852a50e2d"
  },
  "kernelspec": {
   "display_name": "Python 3.8.12 ('base')",
   "language": "python",
   "name": "python3"
  },
  "language_info": {
   "codemirror_mode": {
    "name": "ipython",
    "version": 3
   },
   "file_extension": ".py",
   "mimetype": "text/x-python",
   "name": "python",
   "nbconvert_exporter": "python",
   "pygments_lexer": "ipython3",
   "version": "3.8.12"
  },
  "orig_nbformat": 4
 },
 "nbformat": 4,
 "nbformat_minor": 2
}
