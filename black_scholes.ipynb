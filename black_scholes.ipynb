{
 "cells": [
  {
   "cell_type": "code",
   "execution_count": 105,
   "metadata": {},
   "outputs": [],
   "source": [
    "from math import log, sqrt, pi, exp\n",
    "import scipy.stats as stats\n",
    "from datetime import datetime, date\n",
    "import numpy as np\n",
    "import pandas as pd\n",
    "import math"
   ]
  },
  {
   "cell_type": "code",
   "execution_count": 106,
   "metadata": {},
   "outputs": [],
   "source": [
    "def buildTree(S, vol, T, N):\n",
    "    dt = T/N\n",
    "    matrix = np.zeros((N+1, N+1))\n",
    "    u = math.exp(vol*math.sqrt(dt))\n",
    "    d = math.exp(-vol*math.sqrt(dt))\n",
    "    #Iterateoverthelowertriangle\n",
    "\n",
    "    for i in np.arange(N+1): # iterate over rows\n",
    "        for j in np.arange(i+1): # iterate over columns\n",
    "\n",
    "            #Hint:express each cell as acombination of up and down moves\n",
    "            matrix[i,j] = S * u ** j * d ** (i - j)\n",
    "\n",
    "    return matrix\n"
   ]
  },
  {
   "cell_type": "code",
   "execution_count": 107,
   "metadata": {},
   "outputs": [
    {
     "name": "stdout",
     "output_type": "stream",
     "text": [
      "[[50.          0.          0.          0.          0.          0.        ]\n",
      " [44.54715686 56.12030433  0.          0.          0.          0.        ]\n",
      " [39.68898369 50.         62.98977115  0.          0.          0.        ]\n",
      " [35.36062765 44.54715686 56.12030433 70.70010253  0.          0.        ]\n",
      " [31.50430853 39.68898369 50.         62.98977115 79.35422539  0.        ]\n",
      " [28.06854748 35.36062765 44.54715686 56.12030433 70.70010253 89.06766557]]\n",
      "[[ 4.31914656  0.          0.          0.          0.          0.        ]\n",
      " [ 6.66298713  2.11418898  0.          0.          0.          0.        ]\n",
      " [ 9.85581307  3.67220678  0.63600521  0.          0.          0.        ]\n",
      " [13.81287948  6.17551447  1.30171162  0.          0.          0.        ]\n",
      " [18.08072304  9.89604788  2.66421269  0.          0.          0.        ]\n",
      " [21.93145252 14.63937235  5.45284314  0.          0.          0.        ]]\n"
     ]
    }
   ],
   "source": [
    "\n",
    "def valueOptionMatrix(tree, T, r ,K, vol) :\n",
    "    dt = T / N\n",
    "    u = math.exp(vol*math.sqrt(dt))\n",
    "    d = math.exp(-vol*math.sqrt(dt))\n",
    "    p = (math.exp(r*dt) - d) / (u - d)\n",
    "\n",
    "    columns = tree.shape[1]\n",
    "    rows = tree.shape[0]\n",
    "    # Walk backward , we start in last row of the matrix\n",
    "    # Add the payoff function in the last row\n",
    "    for c in np.arange(columns):\n",
    "        S = tree[rows - 1, c] # value in the matrix\n",
    "        tree[rows - 1, c] = 0 if S > K else tree[0][0] - S\n",
    "    \n",
    "    # For all other rows, we need to combine from previous rows\n",
    "    # We walk backwards, from the last row to the first row\n",
    "    for i in np.arange(rows - 1)[::-1]:\n",
    "        for j in np.arange(i + 1):\n",
    "            down = tree[i + 1, j]\n",
    "            up = tree[i + 1, j + 1]\n",
    "            tree[i, j] = math.exp(-r*dt) * (p * up + (1 - p) * down)\n",
    "    \n",
    "    return tree\n",
    "\n",
    "sigma = 0.4\n",
    "S = 50\n",
    "T = 0.4167\n",
    "N = 5\n",
    "\n",
    "K = 52\n",
    "r = 0.1\n",
    "\n",
    "tree = buildTree(S,sigma,T,N)\n",
    "print(tree)\n",
    "\n",
    "matrix = valueOptionMatrix(tree, T, r, K, sigma)\n",
    "print(matrix)"
   ]
  },
  {
   "cell_type": "code",
   "execution_count": 3,
   "metadata": {},
   "outputs": [],
   "source": [
    "#black scholes formula:\n",
    "C = N1 *S - N2 *K*e**()"
   ]
  },
  {
   "cell_type": "markdown",
   "metadata": {},
   "source": [
    "Consider again a short position in a European call option on a non-dividend-paying stock with\n",
    "a maturity of one year and strike price K of e99. Let the one year interest rate be 6% and the\n",
    "current price of the stock be e100. Furthermore, assume that the volatility is 20%\n",
    "\n",
    " Use the Euler method to perform a hedging simulation. Do an experiment where the\n",
    "volatility in the stock price process is matching the volatility used in the delta computation\n",
    "(set both equal to 20%). Vary the frequency of the hedge adjustment (from daily to weekly)\n",
    "and explain the results. Perform numerical experiments where the volatility in the stock\n",
    "price process is not matching the volatility used in the delta valuation. Experiment for\n",
    "various levels and explain the results.\n",
    "\n",
    "\n"
   ]
  },
  {
   "cell_type": "code",
   "execution_count": 28,
   "metadata": {},
   "outputs": [],
   "source": [
    "S = 100"
   ]
  },
  {
   "cell_type": "code",
   "execution_count": 61,
   "metadata": {},
   "outputs": [],
   "source": [
    "x0 = 0\n",
    "y0 = 1\n",
    "xf = 100\n",
    "n = 1000\n",
    "deltax = (xf-x0)/(n-1)"
   ]
  },
  {
   "cell_type": "code",
   "execution_count": 62,
   "metadata": {},
   "outputs": [],
   "source": [
    "x = np.linspace(x0,xf,n)\n",
    "y = np.zeros([n])"
   ]
  },
  {
   "cell_type": "code",
   "execution_count": 63,
   "metadata": {},
   "outputs": [],
   "source": [
    "y[0] = y0\n",
    "for i in range(1,n):\n",
    "    y[i]= deltax*(-y[i-1]+np.sin(x[i-1]))+y[i-1]"
   ]
  },
  {
   "cell_type": "code",
   "execution_count": 64,
   "metadata": {},
   "outputs": [
    {
     "data": {
      "image/png": "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",
      "text/plain": [
       "<Figure size 432x288 with 1 Axes>"
      ]
     },
     "metadata": {
      "needs_background": "light"
     },
     "output_type": "display_data"
    }
   ],
   "source": [
    "plt.plot(x,y,'o')\n",
    "plt.xlabel(\"Value X\")\n",
    "plt.ylabel(\"Value Y\")\n",
    "plt.show()"
   ]
  },
  {
   "cell_type": "code",
   "execution_count": 122,
   "metadata": {},
   "outputs": [],
   "source": [
    "def BSM(T, r, K, S, sigma):\n",
    "    d1 =(log(S/K)+(r+sigma**2/2.)*T)/(sigma*sqrt(T))\n",
    "    d2 = d1 - (sigma*np.sqrt(T))\n",
    "    Nd1 = stats.norm.cdf(d1)\n",
    "    Nd2 = stats.norm.cdf(d2)\n",
    "\n",
    "    V = (S*Nd1) - (np.exp(-r*T)*K*Nd2)\n",
    "\n",
    "    return V"
   ]
  },
  {
   "cell_type": "code",
   "execution_count": 94,
   "metadata": {},
   "outputs": [],
   "source": [
    "sigma = 0.2\n",
    "S = 100\n",
    "T = 1\n",
    "N = 100\n",
    "K = 99\n",
    "r = 0.06"
   ]
  },
  {
   "cell_type": "code",
   "execution_count": 95,
   "metadata": {},
   "outputs": [
    {
     "name": "stdout",
     "output_type": "stream",
     "text": [
      "11.544280227051097\n"
     ]
    }
   ],
   "source": [
    "bs_call = BSM(T, r, K, S, sigma)\n",
    "print(bs_call)"
   ]
  },
  {
   "cell_type": "code",
   "execution_count": 76,
   "metadata": {},
   "outputs": [
    {
     "ename": "NameError",
     "evalue": "name 'M' is not defined",
     "output_type": "error",
     "traceback": [
      "\u001b[1;31m---------------------------------------------------------------------------\u001b[0m",
      "\u001b[1;31mNameError\u001b[0m                                 Traceback (most recent call last)",
      "\u001b[1;32m~\\AppData\\Local\\Temp/ipykernel_20868/3117422582.py\u001b[0m in \u001b[0;36m<module>\u001b[1;34m\u001b[0m\n\u001b[0;32m      2\u001b[0m \u001b[0my\u001b[0m \u001b[1;33m=\u001b[0m \u001b[0mnp\u001b[0m\u001b[1;33m.\u001b[0m\u001b[0mzeros\u001b[0m\u001b[1;33m(\u001b[0m\u001b[1;33m[\u001b[0m\u001b[0mn\u001b[0m\u001b[1;33m]\u001b[0m\u001b[1;33m)\u001b[0m\u001b[1;33m\u001b[0m\u001b[1;33m\u001b[0m\u001b[0m\n\u001b[0;32m      3\u001b[0m \u001b[0my\u001b[0m\u001b[1;33m[\u001b[0m\u001b[1;36m0\u001b[0m\u001b[1;33m]\u001b[0m \u001b[1;33m=\u001b[0m \u001b[0my0\u001b[0m\u001b[1;33m\u001b[0m\u001b[1;33m\u001b[0m\u001b[0m\n\u001b[1;32m----> 4\u001b[1;33m \u001b[1;32mfor\u001b[0m \u001b[0mi\u001b[0m \u001b[1;32min\u001b[0m \u001b[0mrange\u001b[0m\u001b[1;33m(\u001b[0m\u001b[1;36m1\u001b[0m\u001b[1;33m,\u001b[0m\u001b[0mM\u001b[0m\u001b[1;33m)\u001b[0m\u001b[1;33m:\u001b[0m\u001b[1;33m\u001b[0m\u001b[1;33m\u001b[0m\u001b[0m\n\u001b[0m\u001b[0;32m      5\u001b[0m     \u001b[0my\u001b[0m\u001b[1;33m[\u001b[0m\u001b[0mi\u001b[0m\u001b[1;33m]\u001b[0m\u001b[1;33m=\u001b[0m \u001b[0mdeltax\u001b[0m\u001b[1;33m*\u001b[0m\u001b[1;33m(\u001b[0m\u001b[1;33m-\u001b[0m\u001b[0my\u001b[0m\u001b[1;33m[\u001b[0m\u001b[0mi\u001b[0m\u001b[1;33m-\u001b[0m\u001b[1;36m1\u001b[0m\u001b[1;33m]\u001b[0m\u001b[1;33m+\u001b[0m\u001b[0mnp\u001b[0m\u001b[1;33m.\u001b[0m\u001b[0msin\u001b[0m\u001b[1;33m(\u001b[0m\u001b[0mx\u001b[0m\u001b[1;33m[\u001b[0m\u001b[0mi\u001b[0m\u001b[1;33m-\u001b[0m\u001b[1;36m1\u001b[0m\u001b[1;33m]\u001b[0m\u001b[1;33m)\u001b[0m\u001b[1;33m)\u001b[0m\u001b[1;33m+\u001b[0m\u001b[0my\u001b[0m\u001b[1;33m[\u001b[0m\u001b[0mi\u001b[0m\u001b[1;33m-\u001b[0m\u001b[1;36m1\u001b[0m\u001b[1;33m]\u001b[0m\u001b[1;33m\u001b[0m\u001b[1;33m\u001b[0m\u001b[0m\n",
      "\u001b[1;31mNameError\u001b[0m: name 'M' is not defined"
     ]
    }
   ],
   "source": [
    "x = np.linspace(x0,xf,n)\n",
    "y = np.zeros([n])\n",
    "y[0] = y0\n",
    "for i in range(1,M):\n",
    "    y[i]= deltax*(-y[i-1]+np.sin(x[i-1]))+y[i-1]"
   ]
  },
  {
   "cell_type": "markdown",
   "metadata": {},
   "source": [
    "Euler Method"
   ]
  },
  {
   "cell_type": "code",
   "execution_count": 134,
   "metadata": {},
   "outputs": [],
   "source": [
    "def Euler(S,M,r,sigma,T):\n",
    "    stock_list = []\n",
    "    stock_list.append(S)\n",
    "    dt = T/M\n",
    "\n",
    "    for i in range(M):\n",
    "        x = np.random.normal(loc = 0.0, scale=1)\n",
    "        St = S + (r*S*dt)+sigma*S*sqrt(dt)*x\n",
    "        \n",
    "        S = St\n",
    "        stock_list.append(St)\n",
    "\n",
    "    return(stock_list)"
   ]
  },
  {
   "cell_type": "code",
   "execution_count": 135,
   "metadata": {},
   "outputs": [],
   "source": [
    "M = 365"
   ]
  },
  {
   "cell_type": "code",
   "execution_count": 136,
   "metadata": {},
   "outputs": [],
   "source": [
    "def delta_BSM(T, r, K, S, sigma):\n",
    "    d1 = (((np.log(S/K)) + (r + 0.5*sigma**2)* T) / (sigma*np.sqrt(T)))\n",
    "    Nd1 = stats.norm.cdf(d1)\n",
    "\n",
    "    return Nd1"
   ]
  },
  {
   "cell_type": "code",
   "execution_count": 137,
   "metadata": {},
   "outputs": [],
   "source": [
    "S = 100\n",
    "K = 99\n",
    "M = 365\n",
    "r = 0.06\n",
    "sigma = 0.2\n",
    "T = 1\n",
    "dt = T/M"
   ]
  },
  {
   "cell_type": "code",
   "execution_count": 138,
   "metadata": {},
   "outputs": [
    {
     "data": {
      "image/png": "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",
      "text/plain": [
       "<Figure size 432x288 with 1 Axes>"
      ]
     },
     "metadata": {
      "needs_background": "light"
     },
     "output_type": "display_data"
    },
    {
     "data": {
      "image/png": "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",
      "text/plain": [
       "<Figure size 432x288 with 1 Axes>"
      ]
     },
     "metadata": {
      "needs_background": "light"
     },
     "output_type": "display_data"
    }
   ],
   "source": [
    "prices = Euler(S, M, T, r, sigma)\n",
    "plt.plot(prices)\n",
    "plt.show()\n",
    "dt = T/M\n",
    "\n",
    "hedge = []\n",
    "for m in range(M):\n",
    "    Sm = prices[m]\n",
    "    TtE = T - m*dt\n",
    "\n",
    "    delta = delta_BSM(TtE, r, K, Sm, sigma)\n",
    "    hedge.append(delta)\n",
    "\n",
    "hedge_change = [hedge[i + 1] - hedge[i] for i in range(len(hedge)-1)]\n",
    "\n",
    "plt.plot(hedge_change)\n",
    "plt.show()"
   ]
  },
  {
   "cell_type": "code",
   "execution_count": 139,
   "metadata": {},
   "outputs": [
    {
     "name": "stdout",
     "output_type": "stream",
     "text": [
      "Delta BSM =  0.6737355117348961\n"
     ]
    }
   ],
   "source": [
    "dBSM = delta_BSM(T, r, K, S, sigma)\n",
    "print(\"Delta BSM = \", dBSM)"
   ]
  },
  {
   "cell_type": "code",
   "execution_count": 129,
   "metadata": {},
   "outputs": [],
   "source": [
    "def delta_Tree(T, r, K, S, sigma, N):\n",
    "    tree = buildTree(S, sigma, T, N)\n",
    "    dS = tree[1][1] - tree[1][0]\n",
    "\n",
    "    c_tree = valueOptionMatrix(tree, T, r, K, sigma)\n",
    "    dc = c_tree[1][1] = c_tree[1][0]\n",
    "\n",
    "    delta = dc / dS\n",
    "\n",
    "    return delta"
   ]
  },
  {
   "cell_type": "code",
   "execution_count": 140,
   "metadata": {},
   "outputs": [],
   "source": [
    "vols = np.linspace(start=5, stop = 95, num=19)\n",
    "BSM_vals = []\n",
    "Binos_vals = []\n",
    "\n",
    "for vol in vols:\n",
    "    d_BSMvol = delta_BSM(T, r, K, S, (vol/100))\n",
    "\n",
    "    d_BinoVol = delta_Tree(T, r, K, S, (vol/100), 50)\n",
    "\n",
    "    BSM_vals.append(d_BSMvol)\n",
    "    Binos_vals.append(d_BinoVol)\n",
    "\n",
    "BSM_values = np.array(BSM_vals)\n",
    "Binomial_values = np.array(Binos_vals)"
   ]
  },
  {
   "cell_type": "code",
   "execution_count": 141,
   "metadata": {},
   "outputs": [
    {
     "data": {
      "image/png": "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",
      "text/plain": [
       "<Figure size 432x288 with 1 Axes>"
      ]
     },
     "metadata": {
      "needs_background": "light"
     },
     "output_type": "display_data"
    }
   ],   "source": [
    "plt.plot(vols, BSM_vals, label = \"BSM\")\n",
    "plt.plot(vols, Binos_vals, label = \"Binomial\")\n",
    "plt.xlabel(\"Volatility in %\")\n",
    "plt.ylabel(\"Hedge Parameter Delta\")\n",
    "plt.legend()\n",
    "plt.show()\n"
   ]   "source": [	
    "plt.plot(vols, BSM_vals, label = \"BSM\")\n",	
    "plt.plot(vols, Binos_vals, label = \"Binomial\")\n",	
    "plt.xlabel(\"Volatility in %\")\n",	
    "plt.ylabel(\"Hedge Parameter Delta\")\n",	
    "plt.legend()\n",	
    "plt.show()\n"	
   ]
  },
  {
   "cell_type": "code",
   "execution_count": null,
   "metadata": {},
   "outputs": [],
   "source": []
  }
 ],
 "metadata": {
  "interpreter": {
   "hash": "3871a523a9e8bfc68b7e100bf10607a8f7d8cb28d0f2246e2f3347e852a50e2d"
  },
  "kernelspec": {
   "display_name": "Python 3.8.12 ('base')",
   "language": "python",
   "name": "python3"
  },
  "language_info": {
   "codemirror_mode": {
    "name": "ipython",
    "version": 3
   },
   "file_extension": ".py",
   "mimetype": "text/x-python",
   "name": "python",
   "nbconvert_exporter": "python",
   "pygments_lexer": "ipython3",
   "version": "3.8.12"
  },
  "orig_nbformat": 4
 },
 "nbformat": 4,
 "nbformat_minor": 2
}
