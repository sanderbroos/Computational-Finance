{
 "cells": [
  {
   "cell_type": "code",
   "execution_count": 6,
   "metadata": {},
   "outputs": [],
   "source": [
    "import math\n",
    "import numpy as np\n",
    "import matplotlib.pyplot as plt"
   ]
  },
  {
   "cell_type": "markdown",
   "metadata": {},
   "source": [
    "## Exercise 1.2"
   ]
  },
  {
   "cell_type": "code",
   "execution_count": 3,
   "metadata": {},
   "outputs": [
    {
     "name": "stdout",
     "output_type": "stream",
     "text": [
      "50882.203594307604\n"
     ]
    }
   ],
   "source": [
    "f_sum = 0\n",
    "\n",
    "r = 0.015\n",
    "maturity = 2\n",
    "coupon_rate = 4\n",
    "coupon = 300\n",
    "principal = 50000\n",
    "\n",
    "for n in range(maturity * coupon_rate):\n",
    "    f_sum += coupon * math.exp(r * 1/coupon_rate * n)\n",
    "\n",
    "f0 = (principal + f_sum) / (math.exp(r * 1/coupon_rate * maturity * coupon_rate))\n",
    "\n",
    "print(f0)"
   ]
  },
  {
   "cell_type": "markdown",
   "metadata": {},
   "source": [
    "## Exercise 1.3"
   ]
  },
  {
   "cell_type": "code",
   "execution_count": 54,
   "metadata": {},
   "outputs": [
    {
     "data": {
      "image/png": "[encoded data removed]",
      "text/plain": [
       "<Figure size 288x288 with 1 Axes>"
      ]
     },
     "metadata": {},
     "output_type": "display_data"
    }
   ],
   "source": [
    "x_axis = np.linspace(0, 1, 99)\n",
    "\n",
    "plt.rcParams[\"figure.figsize\"] = (4,4)\n",
    "\n",
    "plt.axhline(y=0, color='k', lw=1)\n",
    "plt.plot(x_axis, [max(x - 0.5, 0) for x in x_axis])\n",
    "plt.xlabel(r\"Stock price $S_T$\")\n",
    "plt.ylabel(\"Payoff\")\n",
    "plt.ylim(-0.5, 0.5)\n",
    "plt.text(0.5, -0.07, \"K\", size=13)\n",
    "plt.text(-0.04, 0.02, \"0\", size=13)\n",
    "plt.gca().xaxis.set_major_locator(plt.NullLocator())\n",
    "plt.gca().yaxis.set_major_locator(plt.NullLocator())\n",
    "plt.show()"
   ]
  },
  {
   "cell_type": "code",
   "execution_count": 55,
   "metadata": {},
   "outputs": [
    {
     "data": {
      "image/png": "[encoded data removed]",
      "text/plain": [
       "<Figure size 288x288 with 1 Axes>"
      ]
     },
     "metadata": {},
     "output_type": "display_data"
    }
   ],
   "source": [
    "x_axis = np.linspace(0, 1, 99)\n",
    "\n",
    "plt.axhline(y=0, color='k', lw=1)\n",
    "plt.plot(x_axis, [max(0.5 - x, 0) for x in x_axis])\n",
    "plt.xlabel(r\"Stock price $S_T$\")\n",
    "plt.ylabel(\"Payoff\")\n",
    "plt.ylim(-0.5, 0.5)\n",
    "plt.text(0.5, -0.07, \"K\", size=13)\n",
    "plt.text(-0.04, 0.02, \"0\", size=13)\n",
    "plt.gca().xaxis.set_major_locator(plt.NullLocator())\n",
    "plt.gca().yaxis.set_major_locator(plt.NullLocator())\n",
    "plt.show()"
   ]
  },
  {
   "cell_type": "code",
   "execution_count": null,
   "metadata": {},
   "outputs": [],
   "source": []
  }
 ],
 "metadata": {
  "interpreter": {
   "hash": "10344cc2630caee6c426f20c539f54d9cac1d1c4347cedafcb6cd557f4800b22"
  },
  "kernelspec": {
   "display_name": "Python 3.9.7 ('base')",
   "language": "python",
   "name": "python3"
  },
  "language_info": {
   "codemirror_mode": {
    "name": "ipython",
    "version": 3
   },
   "file_extension": ".py",
   "mimetype": "text/x-python",
   "name": "python",
   "nbconvert_exporter": "python",
   "pygments_lexer": "ipython3",
   "version": "3.9.7"
  },
  "orig_nbformat": 4
 },
 "nbformat": 4,
 "nbformat_minor": 2
}
